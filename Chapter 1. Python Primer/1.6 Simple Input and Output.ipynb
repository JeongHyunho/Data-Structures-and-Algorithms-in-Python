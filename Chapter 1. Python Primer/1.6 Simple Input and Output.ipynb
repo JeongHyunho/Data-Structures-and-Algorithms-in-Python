{
 "cells": [
  {
   "cell_type": "markdown",
   "metadata": {},
   "source": [
    "1.6 Simple Input and Output\n",
    "=====\n",
    "***\n",
    "\n",
    "1.6.1 Console Input and Output\n",
    "---\n",
    "***\n",
    "\n",
    "### The `print` Function\n",
    "* The built-in function, `print`, is used to generate standard output to the console. In its simplest form, it prints an arbitrary sequence of arguments, separated by spaces, and followed by a trailing newline character.\n",
    "* The separator can be customized by providing a desired separating string as a keyword parameter, `sep`.\n",
    "* An alternative trailing string can be designated using a keyword parameter, `end`.\n",
    "* Output can be directed to a file by indicating an output file stream using `file` as a keyword parameter.\n",
    "\n",
    "### The `input` Function\n",
    "* The primary means for acquiring information from the user console is a built-in function named `input`.\n",
    "* When reading a numeric value from the user, a programmer must use the `int` or `float` syntax to construct the numeric value that character string represents.\n",
    "> year = __int__(input('In what year were you born?'))\n",
    "* If the user enters multiple pieces of information on the same line, it is common to call the `split` method on the result, as in\n",
    "> reply = input('Enter x and y, separated by space: ')<br>\n",
    "> pieces = reply.split()<br>\n",
    "> x = __float__(pieces[0])<br>\n",
    "> y = __float__(pieces[1])\n",
    "\n",
    "1.6.2 Files\n",
    "---\n",
    "***\n",
    "* Files are typically accessed in Python beginning with a call to a built-in function, named `open`, that returns a proxy for interactions with the underlying file.\n",
    "> fp = open('sample.txt')\n",
    "* The default mode is `'r'` for reading. Other common modes are `'w'` for writing to the file, or `'a'` for appending to the end of an existing file.\n",
    "* When processing a file, the proxy maintains a current position within the file as an offset from the beginning.\n",
    "\n",
    "|         <space>         |  __Calling Syntax__ |\n",
    "|:-----------------------:|:-------------------:|\n",
    "|        fp.read()        |      fp.seek(k)     |\n",
    "|        fp.read(k)       |      fp.tell()      |\n",
    "|      fp.readline()      |   fp.write(string)  |\n",
    "|      fp.readlines()     |  fp.writelines(seq) |\n",
    "| __for__ line __in__ fp: | print(..., file=fp) |\n",
    " \n",
    "### Reading from a File\n",
    "* Files can be read a line at a time, using the `readline` method to read one line, or the `readlines` method to return a list of all remaining lines.\n",
    "* Files also support the for-loop syntax, with iteration being line by line. (e.g., __for__ line __in__ fp:)\n",
    "\n",
    "### Writing to a File\n",
    "* When a file proxy is writable if created with access mode 'w' or 'a', text can be written using methods `write` or `writelines`.\n",
    "* `write` does not explicitly add a trailing newlines, so desired newline characters must be embedded directly in the string parameter."
   ]
  }
 ],
 "metadata": {
  "kernelspec": {
   "display_name": "Python 3",
   "language": "python",
   "name": "python3"
  },
  "language_info": {
   "codemirror_mode": {
    "name": "ipython",
    "version": 3
   },
   "file_extension": ".py",
   "mimetype": "text/x-python",
   "name": "python",
   "nbconvert_exporter": "python",
   "pygments_lexer": "ipython3",
   "version": "3.6.6"
  }
 },
 "nbformat": 4,
 "nbformat_minor": 2
}

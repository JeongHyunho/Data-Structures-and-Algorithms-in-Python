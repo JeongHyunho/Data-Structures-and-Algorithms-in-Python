{
 "cells": [
  {
   "cell_type": "markdown",
   "metadata": {},
   "source": [
    "1.1 Python Overview\n",
    "=====\n",
    "***\n",
    "\n",
    "* It provide an overview of the Python programming language.\n",
    "* It does not provide a complete description of the Python language.\n",
    "\n",
    "1.1.1 Python Interpreter\n",
    "-----\n",
    "***\n",
    "\n",
    "* Python is formally an **interpreted** language.\n",
    "* Commands are executed through a piece of software known as the **Python interpreter**\n",
    "* Commands from a predefined script saved in a file are executed by invoking the interpreter with the filename as an argument (e.g., python demo.py).\n",
    "\n",
    "1.1.2 Preview of a Python Program\n",
    "-----\n",
    "***\n",
    "\n",
    "* Individual statements are typically concluded with a new line character.\n",
    "* A command can be extend to another line, either with a concluding backslash character (\\), or if an opening delimiter has not yet been closed, such as the { character.\n",
    "* A block of code is indented to designate it as the body of a control structure.\n",
    "* The primary syntax for comments in Python is based on use of the # character.\n"
   ]
  },
  {
   "cell_type": "code",
   "execution_count": 4,
   "metadata": {},
   "outputs": [
    {
     "name": "stdout",
     "output_type": "stream",
     "text": [
      "Welcome to the GPA calculator.\n",
      "Please enter all you letter grades, one per line.\n",
      "Enter a blank line to designate the end.\n",
      "A+\n",
      "F\n",
      "F\n",
      " \n",
      "Your GPA is 1.33\n"
     ]
    }
   ],
   "source": [
    "# A Python Program that computes a grade-point average (GPA)\n",
    "\n",
    "print('Welcome to the GPA calculator.')\n",
    "print('Please enter all you letter grades, one per line.')\n",
    "print('Enter a blank line to designate the end.')\n",
    "\n",
    "#map from letter grade to point value\n",
    "points = {\n",
    "    'A+': 4.0,\n",
    "    'A': 4.0,\n",
    "    'A-': 3.67,\n",
    "    'B+': 3.33,\n",
    "    'B': 3.0,\n",
    "    'B-': 2.67,\n",
    "    'C+': 2.33,\n",
    "    'C': 2.0,\n",
    "    'C-': 1.67,\n",
    "    'D+': 1.33,\n",
    "    'D': 1.0,\n",
    "    'F': 0.0\n",
    "}\n",
    "num_courses = 0\n",
    "total_points = 0\n",
    "done = False\n",
    "\n",
    "while not done:\n",
    "    grade = input()    # read line from user\n",
    "    if grade == ' ':    # empty line was entered\n",
    "        done = True\n",
    "    elif grade not in points:    # unrecognized grade entered\n",
    "        print(\"Unknown grade '{0}' being ignored\".format(grade))\n",
    "    else:\n",
    "        num_courses += 1\n",
    "        total_points += points[grade]\n",
    "        \n",
    "if num_courses > 0:    # avoid division by zero\n",
    "    print('Your GPA is {0:.3}'.format(total_points/num_courses))"
   ]
  }
 ],
 "metadata": {
  "kernelspec": {
   "display_name": "Python 3",
   "language": "python",
   "name": "python3"
  },
  "language_info": {
   "codemirror_mode": {
    "name": "ipython",
    "version": 3
   },
   "file_extension": ".py",
   "mimetype": "text/x-python",
   "name": "python",
   "nbconvert_exporter": "python",
   "pygments_lexer": "ipython3",
   "version": "3.6.6"
  }
 },
 "nbformat": 4,
 "nbformat_minor": 2
}
